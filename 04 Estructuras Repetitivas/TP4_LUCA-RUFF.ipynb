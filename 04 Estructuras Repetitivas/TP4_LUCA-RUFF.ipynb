{
 "cells": [
  {
   "cell_type": "code",
   "execution_count": 7,
   "id": "72a83466",
   "metadata": {},
   "outputs": [
    {
     "name": "stdout",
     "output_type": "stream",
     "text": [
      "0 2 4 6 8 10 12 14 16 18 20 22 24 26 28 30 32 34 36 38 40 42 44 46 48 50 52 54 56 58 60 62 64 66 68 70 72 74 76 78 80 82 84 86 88 90 92 94 96 98 100 "
     ]
    }
   ],
   "source": [
    "#Actividad 1\n",
    "for i in range(0,102,2):\n",
    "    print(i, end=\" \")"
   ]
  },
  {
   "cell_type": "code",
   "execution_count": null,
   "id": "f2be0316",
   "metadata": {},
   "outputs": [],
   "source": [
    "#EJEMPLO\n",
    "numero_entero = int(input(\"Ingrese un numero entero: \"))\n",
    "i = 0\n",
    "while numero_entero > 0:\n",
    "    i += 1\n",
    "    numero_entero //= 10\n",
    "if i < 0:\n",
    "    print(\"ingrese otro numero mayor que 0\")\n",
    "else:\n",
    "    print (f\"El numero tiene {i} digintos\")"
   ]
  },
  {
   "cell_type": "code",
   "execution_count": 9,
   "id": "99d8ad76",
   "metadata": {},
   "outputs": [
    {
     "name": "stdout",
     "output_type": "stream",
     "text": [
      "El numero tiene 1 digintos\n"
     ]
    }
   ],
   "source": [
    "#Actividad 2\n",
    "numero_entero = int(input(\"Ingrese un numero entero: \"))\n",
    "i = 0\n",
    "while numero_entero > 0:\n",
    "    i += 1\n",
    "    numero_entero //= 10\n",
    "    \n",
    "print (f\"El numero tiene {i} digintos\")\n"
   ]
  },
  {
   "cell_type": "code",
   "execution_count": null,
   "id": "dc6a28c8",
   "metadata": {},
   "outputs": [
    {
     "name": "stdout",
     "output_type": "stream",
     "text": [
      "El primer numero debe ser menor que el segundo, por favor ingrese otro numero\n"
     ]
    }
   ],
   "source": [
    "#Actividad 3\n",
    "n1 = int(input(\"Ingrese un numero entero: \"))\n",
    "n2 = int(input(\"Ingrese otro numero entero: \"))\n",
    "suma = 0\n",
    "if n1 >= n2:\n",
    "    print(\"El primer numero debe ser menor que el segundo, por favor ingrese otro numero\")             \n",
    "else:\n",
    "    for i in range(n1, n2+1):\n",
    "        suma += i\n",
    "    print(f\"La suma de los numeros entre {n1} y {n2} es: {suma}\")               "
   ]
  },
  {
   "cell_type": "code",
   "execution_count": null,
   "id": "eb54a7a2",
   "metadata": {},
   "outputs": [
    {
     "name": "stdout",
     "output_type": "stream",
     "text": [
      "El total acumulado es: 24\n"
     ]
    }
   ],
   "source": [
    "#Actividad 4\n",
    "corte = 0\n",
    "while True:\n",
    "    numero = int(input(\"Ingrese un número entero (ingrese 0 para detenerse): \"))\n",
    "    if numero == 0:\n",
    "        break\n",
    "    corte += numero\n",
    "\n",
    "print(f\"El total acumulado es: {corte}\")"
   ]
  },
  {
   "cell_type": "code",
   "execution_count": null,
   "id": "27594dfc",
   "metadata": {},
   "outputs": [
    {
     "name": "stdout",
     "output_type": "stream",
     "text": [
      "¡Adivina el número secreto entre 0 y 9!\n",
      "El número secreto es menor. Intenta de nuevo.\n",
      "El número secreto es menor. Intenta de nuevo.\n",
      "El número secreto es menor. Intenta de nuevo.\n",
      "El número secreto es menor. Intenta de nuevo.\n",
      "¡Felicidades! Adivinaste el número en 5 intentos.\n"
     ]
    }
   ],
   "source": [
    "#Actividad 5\n",
    "import random\n",
    "numero_secreto = random.randint(0, 9)\n",
    "intentos = 0\n",
    "\n",
    "print(\"Adivina el número secreto entre 0 y 9\")\n",
    "\n",
    "while True:\n",
    "    intento = int(input(\"Introduce tu número: \"))\n",
    "    intentos += 1\n",
    "    if intento == numero_secreto:\n",
    "        print(f\"Adivinaste el número en {intentos} intentos.\")\n",
    "        break\n",
    "    elif intento < numero_secreto:\n",
    "        print(\"El número secreto es mayor. Intenta de nuevo.\")\n",
    "    else:\n",
    "        print(\"El número secreto es menor. Intenta de nuevo.\")"
   ]
  },
  {
   "cell_type": "code",
   "execution_count": null,
   "id": "72848888",
   "metadata": {},
   "outputs": [
    {
     "name": "stdout",
     "output_type": "stream",
     "text": [
      "100 98 96 94 92 90 88 86 84 82 80 78 76 74 72 70 68 66 64 62 60 58 56 54 52 50 48 46 44 42 40 38 36 34 32 30 28 26 24 22 20 18 16 14 12 10 8 6 4 2 0 "
     ]
    }
   ],
   "source": [
    "#Actividad 6\n",
    "for i in range(100, -1, -2):\n",
    "    print(i, end=\" \")"
   ]
  },
  {
   "cell_type": "code",
   "execution_count": null,
   "id": "46e176da",
   "metadata": {},
   "outputs": [
    {
     "name": "stdout",
     "output_type": "stream",
     "text": [
      "La suma de los números desde 0 hasta 10 es: 55\n"
     ]
    }
   ],
   "source": [
    "#Actividad 7\n",
    "numero = int(input(\"Ingrese un número entero positivo: \"))\n",
    "if numero < 0:\n",
    "    print(\"El número debe ser positivo.\")\n",
    "else:\n",
    "    suma = 0\n",
    "    for i in range(0, numero + 1):\n",
    "        suma += i\n",
    "    print(f\"La suma de los números desde 0 hasta {numero} es: {suma}\")"
   ]
  },
  {
   "cell_type": "code",
   "execution_count": null,
   "id": "0df5f9f6",
   "metadata": {},
   "outputs": [
    {
     "name": "stdout",
     "output_type": "stream",
     "text": [
      "Cantidad de números pares: 7 9\n",
      "Cantidad de números impares: 3\n",
      "Cantidad de números positivos: 10\n",
      "Cantidad de números negativos: 0\n"
     ]
    }
   ],
   "source": [
    "#Actividad 8\n",
    "cantidad = 100\n",
    "\n",
    "pares = 0\n",
    "impares = 0\n",
    "positivos = 0\n",
    "negativos = 0\n",
    "\n",
    "for i in range(cantidad):\n",
    "    numero = int(input(f\"Ingrese el número {i+1}: \"))\n",
    "    if numero % 2 == 0:\n",
    "        pares += 1\n",
    "    else:\n",
    "        impares += 1\n",
    "    if numero > 0:\n",
    "        positivos += 1\n",
    "    elif numero < 0:\n",
    "        negativos += 1\n",
    "\n",
    "print(f\"Cantidad de números pares: {pares}\")\n",
    "print(f\"Cantidad de números impares: {impares}\")\n",
    "print(f\"Cantidad de números positivos: {positivos}\")\n",
    "print(f\"Cantidad de números negativos: {negativos}\")"
   ]
  },
  {
   "cell_type": "code",
   "execution_count": null,
   "id": "7872bf04",
   "metadata": {},
   "outputs": [],
   "source": [
    "#Actividad 9\n",
    "import statistics\n",
    "cantidad = 100\n",
    "\n",
    "numeros = []\n",
    "\n",
    "for i in range(cantidad):\n",
    "    numero = int(input(f\"Ingrese el número {i+1}: \"))\n",
    "    numeros.append(numero)\n",
    "\n",
    "media = statistics.mean(numeros)\n",
    "print(f\"La media de los {cantidad} números ingresados es: {media}\")"
   ]
  },
  {
   "cell_type": "code",
   "execution_count": null,
   "id": "bd7efa9b",
   "metadata": {},
   "outputs": [],
   "source": [
    "#Actividad 10 \n",
    "numero = input(\"Ingrese un número entero: \")\n",
    "numero_invertido = ''.join(reversed(numero))\n",
    "print(f\"El número invertido es: {numero_invertido}\")"
   ]
  }
 ],
 "metadata": {
  "kernelspec": {
   "display_name": "Python 3",
   "language": "python",
   "name": "python3"
  },
  "language_info": {
   "codemirror_mode": {
    "name": "ipython",
    "version": 3
   },
   "file_extension": ".py",
   "mimetype": "text/x-python",
   "name": "python",
   "nbconvert_exporter": "python",
   "pygments_lexer": "ipython3",
   "version": "3.11.9"
  }
 },
 "nbformat": 4,
 "nbformat_minor": 5
}
