{
 "cells": [
  {
   "cell_type": "code",
   "execution_count": 1,
   "id": "e76ea6dc",
   "metadata": {},
   "outputs": [
    {
     "name": "stdout",
     "output_type": "stream",
     "text": [
      "Es mayor de edad\n"
     ]
    }
   ],
   "source": [
    "# Actividad 1\n",
    "edad = int(input(f\"Ingrese su edad: \"))\n",
    "if edad >= 18:\n",
    "        print(f\"Es mayor de edad\")\n",
    "else: print(\"Es menor de edad\")"
   ]
  },
  {
   "cell_type": "code",
   "execution_count": null,
   "id": "16813121",
   "metadata": {},
   "outputs": [
    {
     "name": "stdout",
     "output_type": "stream",
     "text": [
      "Desaprobado\n"
     ]
    }
   ],
   "source": [
    "# Actividad 2\n",
    "nota = float(input(f\"Ingrese su nota: \"))\n",
    "if nota >= 6:\n",
    "    print(f\"Aprobado\")\n",
    "else: print(\"Desaprobado\")"
   ]
  },
  {
   "cell_type": "code",
   "execution_count": 8,
   "id": "3b5e591e",
   "metadata": {},
   "outputs": [
    {
     "name": "stdout",
     "output_type": "stream",
     "text": [
      "Ha ingresado un número par\n"
     ]
    }
   ],
   "source": [
    "# Actividad 3\n",
    "numero = int(input(f\"Ingrese un numero\"))\n",
    "if numero%2==0:\n",
    "    print(f\"Ha ingresado un número par\")\n",
    "else: print(f\"Por favor, ingrese un número par\")"
   ]
  },
  {
   "cell_type": "code",
   "execution_count": null,
   "id": "e3ab7c2e",
   "metadata": {},
   "outputs": [
    {
     "name": "stdout",
     "output_type": "stream",
     "text": [
      "Es Adulto/a\n"
     ]
    }
   ],
   "source": [
    "# Actividad 4\n",
    "edad = int(input(\"Ingrese su edad\"))\n",
    "if edad < 12:\n",
    "    print(\"Es Niño/a\")\n",
    "elif edad >= 12 and edad < 18:\n",
    "    print(\"Es Adolecente\")\n",
    "elif edad >= 18 and edad < 30:\n",
    "    print(\"Es Adulto/a joven\")\n",
    "elif edad >= 30:\n",
    "    print(\"Es Adulto/a\")"
   ]
  },
  {
   "cell_type": "code",
   "execution_count": 78,
   "id": "c0f78a88",
   "metadata": {},
   "outputs": [
    {
     "name": "stdout",
     "output_type": "stream",
     "text": [
      "Ha ingresado una contraseña correcta\n"
     ]
    }
   ],
   "source": [
    "# Actividad 5\n",
    "contraseña = input(\"Ingrese una contraseña:\")\n",
    "if len(contraseña) >=8 and len(contraseña) <=14:\n",
    "    print(\"Ha ingresado una contraseña correcta\")\n",
    "else:\n",
    "    print(\"Por favor, ingrese una contraseña de entre 8 y 14 caracteres\")    "
   ]
  },
  {
   "cell_type": "code",
   "execution_count": null,
   "id": "1e2ed500",
   "metadata": {},
   "outputs": [
    {
     "data": {
      "text/plain": [
       "5"
      ]
     },
     "execution_count": 86,
     "metadata": {},
     "output_type": "execute_result"
    }
   ],
   "source": [
    "#Uso libreria \"statics\" para calcular (moda, mediana y la media)\n",
    "from statistics import mode, median, mean\n",
    "mi_lista = [1,2,5,5,3]\n",
    "mode(mi_lista)\n",
    "\n",
    "# La moda (mode), la mediana (median) y la media (mean) son parámetros estadísticos que se pueden utilizar para predecir la forma de una distribución normal a partir del siguiente criterio:\n",
    "# ● Sesgo positivo o a la derecha: cuando la media es mayor que la mediana y, a su vez, la mediana es mayor que la moda. \n",
    "# ● Sesgo negativo o a la izquierda: cuando la media es menor que la mediana y, a su vez, la mediana es menor que la moda. \n",
    "# ● Sin sesgo:cuando la media, la mediana y la moda son iguales."
   ]
  },
  {
   "cell_type": "code",
   "execution_count": 187,
   "id": "b1574e59",
   "metadata": {},
   "outputs": [
    {
     "name": "stdout",
     "output_type": "stream",
     "text": [
      "Los numeros alternativos son: [58, 31, 92, 73, 52, 79, 60, 20, 4, 39, 88, 52, 89, 57, 43, 64, 56, 81, 3, 85, 91, 70, 75, 93, 75, 18, 83, 71, 65, 36, 29, 23, 15, 69, 24, 75, 74, 7, 49, 1, 91, 91, 8, 90, 64, 29, 100, 99, 95, 58]\n",
      "La moda es 91\n",
      "La mediana es 64.0\n",
      "La media es 57.88\n",
      "El Sesgo es negativo\n"
     ]
    }
   ],
   "source": [
    "# Actividad 6\n",
    "import random\n",
    "numeros_alternativos = [random.randint(1,100) for i in range(50)]\n",
    "print(f\"Los numeros alternativos son: {numeros_alternativos}\")\n",
    "#moda mediana y media\n",
    "from statistics import mode, median, mean\n",
    "print(f\"La moda es {mode(numeros_alternativos)}\")\n",
    "print(f\"La mediana es {median(numeros_alternativos)}\")\n",
    "print(f\"La media es {mean(numeros_alternativos)}\")\n",
    "if mean(numeros_alternativos) > median(numeros_alternativos) and median(numeros_alternativos) > mode(numeros_alternativos):\n",
    "    print(\"El Sesgo es positivo\")\n",
    "elif mean(numeros_alternativos) < median(numeros_alternativos) and median(numeros_alternativos) < mode(numeros_alternativos):\n",
    "    print(\"El Sesgo es negativo\")\n",
    "elif mean(numeros_alternativos) == median(numeros_alternativos) == mode(numeros_alternativos):\n",
    "    print(\"Sin sesgo\")\n",
    "else: print(\"Intente de nuevo\")"
   ]
  },
  {
   "cell_type": "code",
   "execution_count": 5,
   "id": "b8813ab7",
   "metadata": {},
   "outputs": [
    {
     "name": "stdout",
     "output_type": "stream",
     "text": [
      "indio!\n"
     ]
    }
   ],
   "source": [
    "#Actividad 7\n",
    "frase = input(\"Ingrese una frase o palabra: \").lower()\n",
    "if frase[len(frase)-1] == \"a\" or frase[len(frase)-1] == \"e\" or frase[len(frase)-1] == \"i\" or frase[len(frase)-1] == \"o\" or frase[len(frase)-1] == \"u\":\n",
    "    print(f\"{frase}!\")\n",
    "else: print(frase)"
   ]
  },
  {
   "cell_type": "code",
   "execution_count": 22,
   "id": "c35f1fef",
   "metadata": {},
   "outputs": [
    {
     "name": "stdout",
     "output_type": "stream",
     "text": [
      "Por favor, elija una de las opciones indicadas\n"
     ]
    }
   ],
   "source": [
    "#Actividad 8\n",
    "nombre = input(\"Ingrese su nombre: \")\n",
    "opcion = input(\"Elige una opcion\\n1. Mayúsculas\\n2. Minuscula\\n3. Primera letra mayúscula\\n Opcion:\")\n",
    "if opcion == \"1\":\n",
    "    nombre_usuario = nombre.upper()\n",
    "elif opcion == \"2\":\n",
    "    nombre_usuario = nombre.lower()\n",
    "elif opcion == \"3\":\n",
    "    nombre_usuario = nombre.title()\n",
    "else: \n",
    "    nombre_usuario = \"Por favor, elija una de las opciones indicadas\"\n",
    "print(nombre_usuario)"
   ]
  },
  {
   "cell_type": "code",
   "execution_count": null,
   "id": "c00a3a22",
   "metadata": {},
   "outputs": [
    {
     "name": "stdout",
     "output_type": "stream",
     "text": [
      "Extremo\n"
     ]
    }
   ],
   "source": [
    "#Actividad 9\n",
    "magnitud = float(input(\"Ingrese la magnitud del terremoto: \"))\n",
    "if magnitud < 3:\n",
    "    print(\"Muy leve\")\n",
    "elif magnitud >= 3 and magnitud < 4:\n",
    "    print(\"Leve\")\n",
    "elif magnitud >= 4 and magnitud < 5:\n",
    "    print(\"Moderado\")\n",
    "elif magnitud >= 5 and magnitud < 6:\n",
    "    print(\"Fuerte\")\n",
    "elif magnitud >= 6 and magnitud < 7:\n",
    "    print(\"Muy fuerte\")\n",
    "elif magnitud >= 7:\n",
    "    print(\"Extremo\")\n",
    "else:\n",
    "    print(\"Error\")\n"
   ]
  },
  {
   "cell_type": "code",
   "execution_count": null,
   "id": "ed8b5bc5",
   "metadata": {},
   "outputs": [],
   "source": [
    "#Actividad 10\n",
    "hemisferio = input(\"Ingrese el hemisferio donde se encuentra (Norte: \\nN) o (Sur: \\nS)\").upper()\n",
    "mes = int(input(\"Ingrese el mes (1-12)\"))\n",
    "dia = int(input(\"Ingrese un dia (1-31)\"))\n",
    "if (mes == 12 and dia >= 21 and hemisferio == \"N\") or (mes == 1) or (mes == 2) or (mes == 3 and dia < 20):\n",
    "    estacion = \"invierno\"\n",
    "elif (mes == 12 and dia >= 21 and hemisferio == \"S\") or (mes == 1) or (mes == 2) or (mes == 3 and dia < 20):\n",
    "    estacion = \"Verano\"\n",
    "elif (mes == 3 and dia >= 21 and hemisferio == \"N\") or (mes == 4) or (mes == 5) or (mes == 6 and dia < 20):\n",
    "    estacion = \"Primavera\"\n",
    "elif (mes == 3 and dia >= 21 and hemisferio == \"S\") or (mes == 4) or (mes == 5) or (mes == 6 and dia < 20):\n",
    "    estacion = \"Otoño\"\n",
    "elif (mes == 6 and dia >= 21 and hemisferio == \"N\") or (mes == 7) or (mes == 8) or (mes == 9 and dia < 20):\n",
    "    estacion = \"Verano\"\n",
    "elif (mes == 6 and dia >= 21 and hemisferio == \"S\") or (mes == 7) or (mes == 8) or (mes == 9 and dia < 20):\n",
    "    estacion = \"Invierno\"\n",
    "elif (mes == 9 and dia >= 21 and hemisferio == \"N\") or (mes == 10) or (mes == 11) or (mes == 12 and dia < 20):\n",
    "    estacion = \"Otoño\"\n",
    "elif (mes == 9 and dia >= 21 and hemisferio == \"S\") or (mes == 10) or (mes == 11) or (mes == 12 and dia < 20):\n",
    "    estacion = \"Primavera\"\n",
    "else: \n",
    "    estacion = \"Fecha no valida\"\n",
    "print(f\"Usted se encuentra en {estacion}\")\n"
   ]
  },
  {
   "cell_type": "code",
   "execution_count": null,
   "id": "40fa20fb",
   "metadata": {},
   "outputs": [],
   "source": [
    "\n",
    "      "
   ]
  }
 ],
 "metadata": {
  "kernelspec": {
   "display_name": "Python 3",
   "language": "python",
   "name": "python3"
  },
  "language_info": {
   "codemirror_mode": {
    "name": "ipython",
    "version": 3
   },
   "file_extension": ".py",
   "mimetype": "text/x-python",
   "name": "python",
   "nbconvert_exporter": "python",
   "pygments_lexer": "ipython3",
   "version": "3.11.9"
  }
 },
 "nbformat": 4,
 "nbformat_minor": 5
}
